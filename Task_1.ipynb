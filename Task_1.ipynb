{
  "nbformat": 4,
  "nbformat_minor": 0,
  "metadata": {
    "colab": {
      "provenance": [],
      "authorship_tag": "ABX9TyM5BA/ep+6oSFnf7uStyZgz",
      "include_colab_link": true
    },
    "kernelspec": {
      "name": "python3",
      "display_name": "Python 3"
    },
    "language_info": {
      "name": "python"
    }
  },
  "cells": [
    {
      "cell_type": "markdown",
      "metadata": {
        "id": "view-in-github",
        "colab_type": "text"
      },
      "source": [
        "<a href=\"https://colab.research.google.com/github/MaCroDmT/python/blob/main/Task_1.ipynb\" target=\"_parent\"><img src=\"https://colab.research.google.com/assets/colab-badge.svg\" alt=\"Open In Colab\"/></a>"
      ]
    },
    {
      "cell_type": "code",
      "execution_count": 2,
      "metadata": {
        "colab": {
          "base_uri": "https://localhost:8080/"
        },
        "id": "Qfsu5HOeNoS0",
        "outputId": "4bb80f66-8980-4293-85fa-9d940ad0155c"
      },
      "outputs": [
        {
          "output_type": "stream",
          "name": "stdout",
          "text": [
            "Mounted at /content/drive\n"
          ]
        }
      ],
      "source": [
        "from google.colab import drive\n",
        "drive.mount('/content/drive')"
      ]
    },
    {
      "cell_type": "code",
      "source": [
        "import pandas as pd"
      ],
      "metadata": {
        "id": "TfmePGEoNuHm"
      },
      "execution_count": 3,
      "outputs": []
    },
    {
      "cell_type": "code",
      "source": [
        "data = pd.read_csv('/content/drive/My Drive/Python_final_tasks/bank.csv')"
      ],
      "metadata": {
        "id": "ptUw6i8tNxkB"
      },
      "execution_count": 4,
      "outputs": []
    },
    {
      "cell_type": "code",
      "source": [
        "# Identify numeric and categorical columns\n",
        "num_cols = data.select_dtypes(include=['int64', 'float64']).columns\n",
        "cat_cols = data.select_dtypes(include=['object']).columns\n",
        "\n",
        "# Build dictionary of fill values\n",
        "fill_values = {}\n",
        "\n",
        "# Fill numeric columns with mean\n",
        "for col in num_cols:\n",
        "    fill_values[col] = data[col].mean()\n",
        "\n",
        "# Fill categorical columns with mode\n",
        "for col in cat_cols:\n",
        "    fill_values[col] = data[col].mode()[0]\n",
        "\n",
        "# Apply all fill values at once\n",
        "data.fillna(fill_values, inplace=True)\n",
        "\n",
        "# Before filling\n",
        "print(\"Missing values before filling:\")\n",
        "print(data.isnull().sum())\n",
        "\n",
        "# Your fillna code here...\n",
        "\n",
        "# After filling\n",
        "print(\"\\nMissing values after filling:\")\n",
        "print(data.isnull().sum())\n",
        "\n"
      ],
      "metadata": {
        "colab": {
          "base_uri": "https://localhost:8080/"
        },
        "id": "cLRqdrE2RK2I",
        "outputId": "3054a5d3-86fa-4161-eff6-b440d9a74457"
      },
      "execution_count": null,
      "outputs": [
        {
          "output_type": "stream",
          "name": "stdout",
          "text": [
            "Missing values before filling:\n",
            "age          0\n",
            "job          0\n",
            "marital      0\n",
            "education    0\n",
            "default      0\n",
            "balance      0\n",
            "housing      0\n",
            "loan         0\n",
            "contact      0\n",
            "day          0\n",
            "month        0\n",
            "duration     0\n",
            "campaign     0\n",
            "pdays        0\n",
            "previous     0\n",
            "poutcome     0\n",
            "deposit      0\n",
            "dtype: int64\n",
            "\n",
            "Missing values after filling:\n",
            "age          0\n",
            "job          0\n",
            "marital      0\n",
            "education    0\n",
            "default      0\n",
            "balance      0\n",
            "housing      0\n",
            "loan         0\n",
            "contact      0\n",
            "day          0\n",
            "month        0\n",
            "duration     0\n",
            "campaign     0\n",
            "pdays        0\n",
            "previous     0\n",
            "poutcome     0\n",
            "deposit      0\n",
            "dtype: int64\n"
          ]
        }
      ]
    },
    {
      "cell_type": "code",
      "source": [
        "import pandas as pd\n",
        "\n",
        "# Load data\n",
        "df = pd.read_csv('/content/drive/My Drive/Python_final_tasks/bank.csv')\n",
        "\n",
        "# Drop duplicate rows\n",
        "df = df.drop_duplicates()\n",
        "print(\"Duplicate rows dropped. Remaining rows: \" + str(len(df)))\n",
        "\n",
        "\n",
        "# Specify columns to fill\n",
        "mean_fill_cols = ['age', 'balance','day','duration','campaign','pdays','previous']   # Numeric columns you want to fill with mean\n",
        "mode_fill_cols = ['job', 'marital','education','default','housing','loan','contact','month','poutcome','deposit']       # Categorical columns you want to fill with mode\n",
        "\n",
        "# Fill numeric columns with mean\n",
        "for col in mean_fill_cols:\n",
        "    if col in df.columns:\n",
        "        df[col].fillna(df[col].mean(), inplace=True)\n",
        "        print(\"Filled missing values in '\" + col + \"' with mean: \" + str(df[col].mean()))\n",
        "\n",
        "# Fill categorical columns with mode\n",
        "for col in mode_fill_cols:\n",
        "    if col in df.columns:\n",
        "        df[col].fillna(df[col].mode()[0], inplace=True)\n",
        "        print(\"Filled missing values in '\" + col + \"' with mode: \" + str(df[col].mode()[0]))\n",
        "\n",
        "\n",
        "# Check if any missing values remain\n",
        "print(\"\\nRemaining missing values:\")\n",
        "print(df.isnull().sum())\n"
      ],
      "metadata": {
        "colab": {
          "base_uri": "https://localhost:8080/"
        },
        "id": "H9mreMTNTFgb",
        "outputId": "6c488bc4-1d66-4854-f99e-96d5d15c6185"
      },
      "execution_count": null,
      "outputs": [
        {
          "output_type": "stream",
          "name": "stdout",
          "text": [
            "Duplicate rows dropped. Remaining rows: 11162\n",
            "Filled missing values in 'age' with mean: 41.231947679627304\n",
            "Filled missing values in 'balance' with mean: 1528.5385235620856\n",
            "Filled missing values in 'day' with mean: 15.658036194230425\n",
            "Filled missing values in 'duration' with mean: 371.99381831213043\n",
            "Filled missing values in 'campaign' with mean: 2.508421429851281\n",
            "Filled missing values in 'pdays' with mean: 51.33040673714388\n",
            "Filled missing values in 'previous' with mean: 0.8325568894463358\n",
            "Filled missing values in 'job' with mode: management\n",
            "Filled missing values in 'marital' with mode: married\n",
            "Filled missing values in 'education' with mode: secondary\n",
            "Filled missing values in 'default' with mode: no\n",
            "Filled missing values in 'housing' with mode: no\n",
            "Filled missing values in 'loan' with mode: no\n",
            "Filled missing values in 'contact' with mode: cellular\n",
            "Filled missing values in 'month' with mode: may\n",
            "Filled missing values in 'poutcome' with mode: unknown\n",
            "Filled missing values in 'deposit' with mode: no\n",
            "\n",
            "Remaining missing values:\n",
            "age          0\n",
            "job          0\n",
            "marital      0\n",
            "education    0\n",
            "default      0\n",
            "balance      0\n",
            "housing      0\n",
            "loan         0\n",
            "contact      0\n",
            "day          0\n",
            "month        0\n",
            "duration     0\n",
            "campaign     0\n",
            "pdays        0\n",
            "previous     0\n",
            "poutcome     0\n",
            "deposit      0\n",
            "dtype: int64\n"
          ]
        },
        {
          "output_type": "stream",
          "name": "stderr",
          "text": [
            "<ipython-input-11-b3a0601fd99e>:18: FutureWarning: A value is trying to be set on a copy of a DataFrame or Series through chained assignment using an inplace method.\n",
            "The behavior will change in pandas 3.0. This inplace method will never work because the intermediate object on which we are setting values always behaves as a copy.\n",
            "\n",
            "For example, when doing 'df[col].method(value, inplace=True)', try using 'df.method({col: value}, inplace=True)' or df[col] = df[col].method(value) instead, to perform the operation inplace on the original object.\n",
            "\n",
            "\n",
            "  df[col].fillna(df[col].mean(), inplace=True)\n",
            "<ipython-input-11-b3a0601fd99e>:24: FutureWarning: A value is trying to be set on a copy of a DataFrame or Series through chained assignment using an inplace method.\n",
            "The behavior will change in pandas 3.0. This inplace method will never work because the intermediate object on which we are setting values always behaves as a copy.\n",
            "\n",
            "For example, when doing 'df[col].method(value, inplace=True)', try using 'df.method({col: value}, inplace=True)' or df[col] = df[col].method(value) instead, to perform the operation inplace on the original object.\n",
            "\n",
            "\n",
            "  df[col].fillna(df[col].mode()[0], inplace=True)\n"
          ]
        }
      ]
    },
    {
      "cell_type": "code",
      "source": [
        "import pandas as pd\n",
        "\n",
        "# Load data\n",
        "df = pd.read_csv('/content/drive/My Drive/Python_final_tasks/bank.csv')\n",
        "print(\"Missing values before filling:\")\n",
        "print(data.isnull().sum())\n",
        "\n",
        "original_rows = len(df)\n",
        "df = df.drop_duplicates()\n",
        "new_rows = len(df)\n",
        "\n",
        "print(\"Duplicate rows dropped.\")\n",
        "print(\"Remaining rows after dropping duplicates: \" + str(new_rows))\n",
        "\n",
        "\n",
        "# Specify columns to fill\n",
        "mean_fill_cols = ['age', 'balance','day','duration','campaign','pdays','previous']   # Numeric columns you want to fill with mean\n",
        "mode_fill_cols = ['job', 'marital','education','default','housing','loan','contact','month','poutcome','deposit']       # Categorical columns you want to fill with mode\n",
        "\n",
        "# Fill numeric columns with mean\n",
        "# Fill numeric columns with mean\n",
        "for col in mean_fill_cols:\n",
        "    if col in df.columns:\n",
        "        df[col] = df[col].fillna(df[col].mean())\n",
        "        print(\"Filled missing values in '\" + col + \"' with mean: \" + str(df[col].mean()))\n",
        "# Fill categorical columns with mode\n",
        "for col in mode_fill_cols:\n",
        "    if col in df.columns:\n",
        "        df[col] = df[col].fillna(df[col].mode()[0])\n",
        "        print(\"Filled missing values in '\" + col + \"' with mode: \" + str(df[col].mode()[0]))\n",
        "\n",
        "# Check if any missing values remain\n",
        "print(\"\\nRemaining missing values:\")\n",
        "print(df.isnull().sum())\n"
      ],
      "metadata": {
        "colab": {
          "base_uri": "https://localhost:8080/"
        },
        "id": "cfB6abWhVxxX",
        "outputId": "d99b63e8-a13d-4feb-a1f3-612dbb4d53d0"
      },
      "execution_count": 5,
      "outputs": [
        {
          "output_type": "stream",
          "name": "stdout",
          "text": [
            "Missing values before filling:\n",
            "age          0\n",
            "job          0\n",
            "marital      0\n",
            "education    0\n",
            "default      0\n",
            "balance      0\n",
            "housing      0\n",
            "loan         0\n",
            "contact      0\n",
            "day          0\n",
            "month        0\n",
            "duration     0\n",
            "campaign     0\n",
            "pdays        0\n",
            "previous     0\n",
            "poutcome     0\n",
            "deposit      0\n",
            "dtype: int64\n",
            "Duplicate rows dropped.\n",
            "Remaining rows after dropping duplicates: 11162\n",
            "Filled missing values in 'age' with mean: 41.231947679627304\n",
            "Filled missing values in 'balance' with mean: 1528.5385235620856\n",
            "Filled missing values in 'day' with mean: 15.658036194230425\n",
            "Filled missing values in 'duration' with mean: 371.99381831213043\n",
            "Filled missing values in 'campaign' with mean: 2.508421429851281\n",
            "Filled missing values in 'pdays' with mean: 51.33040673714388\n",
            "Filled missing values in 'previous' with mean: 0.8325568894463358\n",
            "Filled missing values in 'job' with mode: management\n",
            "Filled missing values in 'marital' with mode: married\n",
            "Filled missing values in 'education' with mode: secondary\n",
            "Filled missing values in 'default' with mode: no\n",
            "Filled missing values in 'housing' with mode: no\n",
            "Filled missing values in 'loan' with mode: no\n",
            "Filled missing values in 'contact' with mode: cellular\n",
            "Filled missing values in 'month' with mode: may\n",
            "Filled missing values in 'poutcome' with mode: unknown\n",
            "Filled missing values in 'deposit' with mode: no\n",
            "\n",
            "Remaining missing values:\n",
            "age          0\n",
            "job          0\n",
            "marital      0\n",
            "education    0\n",
            "default      0\n",
            "balance      0\n",
            "housing      0\n",
            "loan         0\n",
            "contact      0\n",
            "day          0\n",
            "month        0\n",
            "duration     0\n",
            "campaign     0\n",
            "pdays        0\n",
            "previous     0\n",
            "poutcome     0\n",
            "deposit      0\n",
            "dtype: int64\n"
          ]
        }
      ]
    }
  ]
}